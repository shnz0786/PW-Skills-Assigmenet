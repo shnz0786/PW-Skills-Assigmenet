{
  "nbformat": 4,
  "nbformat_minor": 0,
  "metadata": {
    "colab": {
      "provenance": []
    },
    "kernelspec": {
      "name": "python3",
      "display_name": "Python 3"
    },
    "language_info": {
      "name": "python"
    }
  },
  "cells": [
    {
      "cell_type": "code",
      "execution_count": 26,
      "metadata": {
        "colab": {
          "base_uri": "https://localhost:8080/",
          "height": 423
        },
        "id": "e2nhh0Fhnkbp",
        "outputId": "db28c3aa-0400-47a7-fff3-ff2c230a5d64"
      },
      "outputs": [
        {
          "output_type": "execute_result",
          "data": {
            "text/plain": [
              "                                     name  selling_price  year seller_type  \\\n",
              "0               Royal Enfield Classic 350         175000  2019  Individual   \n",
              "1                               Honda Dio          45000  2017  Individual   \n",
              "2     Royal Enfield Classic Gunmetal Grey         150000  2018  Individual   \n",
              "3       Yamaha Fazer FI V 2.0 [2016-2018]          65000  2015  Individual   \n",
              "4                   Yamaha SZ [2013-2014]          20000  2011  Individual   \n",
              "...                                   ...            ...   ...         ...   \n",
              "1056                            Activa 3g          17000  2010  Individual   \n",
              "1057                     Honda CB twister          16000  2012  Individual   \n",
              "1058                   Bajaj Discover 125          15000  2013  Individual   \n",
              "1059                       Honda CB Shine          12000  2009  Individual   \n",
              "1060                     Bajaj Pulsar 150          10000  2008  Individual   \n",
              "\n",
              "          owner  km_driven  ex_showroom_price  \n",
              "0     1st owner        350                NaN  \n",
              "1     1st owner       5650                NaN  \n",
              "2     1st owner      12000           148114.0  \n",
              "3     1st owner      23000            89643.0  \n",
              "4     2nd owner      21000                NaN  \n",
              "...         ...        ...                ...  \n",
              "1056  1st owner     500000            52000.0  \n",
              "1057  1st owner      33000            51000.0  \n",
              "1058  2nd owner      35000            57000.0  \n",
              "1059  1st owner      53000            58000.0  \n",
              "1060  1st owner      92233            75000.0  \n",
              "\n",
              "[1061 rows x 7 columns]"
            ],
            "text/html": [
              "\n",
              "  <div id=\"df-e23d8b2d-35ed-458c-a7ee-e44cd23a4558\" class=\"colab-df-container\">\n",
              "    <div>\n",
              "<style scoped>\n",
              "    .dataframe tbody tr th:only-of-type {\n",
              "        vertical-align: middle;\n",
              "    }\n",
              "\n",
              "    .dataframe tbody tr th {\n",
              "        vertical-align: top;\n",
              "    }\n",
              "\n",
              "    .dataframe thead th {\n",
              "        text-align: right;\n",
              "    }\n",
              "</style>\n",
              "<table border=\"1\" class=\"dataframe\">\n",
              "  <thead>\n",
              "    <tr style=\"text-align: right;\">\n",
              "      <th></th>\n",
              "      <th>name</th>\n",
              "      <th>selling_price</th>\n",
              "      <th>year</th>\n",
              "      <th>seller_type</th>\n",
              "      <th>owner</th>\n",
              "      <th>km_driven</th>\n",
              "      <th>ex_showroom_price</th>\n",
              "    </tr>\n",
              "  </thead>\n",
              "  <tbody>\n",
              "    <tr>\n",
              "      <th>0</th>\n",
              "      <td>Royal Enfield Classic 350</td>\n",
              "      <td>175000</td>\n",
              "      <td>2019</td>\n",
              "      <td>Individual</td>\n",
              "      <td>1st owner</td>\n",
              "      <td>350</td>\n",
              "      <td>NaN</td>\n",
              "    </tr>\n",
              "    <tr>\n",
              "      <th>1</th>\n",
              "      <td>Honda Dio</td>\n",
              "      <td>45000</td>\n",
              "      <td>2017</td>\n",
              "      <td>Individual</td>\n",
              "      <td>1st owner</td>\n",
              "      <td>5650</td>\n",
              "      <td>NaN</td>\n",
              "    </tr>\n",
              "    <tr>\n",
              "      <th>2</th>\n",
              "      <td>Royal Enfield Classic Gunmetal Grey</td>\n",
              "      <td>150000</td>\n",
              "      <td>2018</td>\n",
              "      <td>Individual</td>\n",
              "      <td>1st owner</td>\n",
              "      <td>12000</td>\n",
              "      <td>148114.0</td>\n",
              "    </tr>\n",
              "    <tr>\n",
              "      <th>3</th>\n",
              "      <td>Yamaha Fazer FI V 2.0 [2016-2018]</td>\n",
              "      <td>65000</td>\n",
              "      <td>2015</td>\n",
              "      <td>Individual</td>\n",
              "      <td>1st owner</td>\n",
              "      <td>23000</td>\n",
              "      <td>89643.0</td>\n",
              "    </tr>\n",
              "    <tr>\n",
              "      <th>4</th>\n",
              "      <td>Yamaha SZ [2013-2014]</td>\n",
              "      <td>20000</td>\n",
              "      <td>2011</td>\n",
              "      <td>Individual</td>\n",
              "      <td>2nd owner</td>\n",
              "      <td>21000</td>\n",
              "      <td>NaN</td>\n",
              "    </tr>\n",
              "    <tr>\n",
              "      <th>...</th>\n",
              "      <td>...</td>\n",
              "      <td>...</td>\n",
              "      <td>...</td>\n",
              "      <td>...</td>\n",
              "      <td>...</td>\n",
              "      <td>...</td>\n",
              "      <td>...</td>\n",
              "    </tr>\n",
              "    <tr>\n",
              "      <th>1056</th>\n",
              "      <td>Activa 3g</td>\n",
              "      <td>17000</td>\n",
              "      <td>2010</td>\n",
              "      <td>Individual</td>\n",
              "      <td>1st owner</td>\n",
              "      <td>500000</td>\n",
              "      <td>52000.0</td>\n",
              "    </tr>\n",
              "    <tr>\n",
              "      <th>1057</th>\n",
              "      <td>Honda CB twister</td>\n",
              "      <td>16000</td>\n",
              "      <td>2012</td>\n",
              "      <td>Individual</td>\n",
              "      <td>1st owner</td>\n",
              "      <td>33000</td>\n",
              "      <td>51000.0</td>\n",
              "    </tr>\n",
              "    <tr>\n",
              "      <th>1058</th>\n",
              "      <td>Bajaj Discover 125</td>\n",
              "      <td>15000</td>\n",
              "      <td>2013</td>\n",
              "      <td>Individual</td>\n",
              "      <td>2nd owner</td>\n",
              "      <td>35000</td>\n",
              "      <td>57000.0</td>\n",
              "    </tr>\n",
              "    <tr>\n",
              "      <th>1059</th>\n",
              "      <td>Honda CB Shine</td>\n",
              "      <td>12000</td>\n",
              "      <td>2009</td>\n",
              "      <td>Individual</td>\n",
              "      <td>1st owner</td>\n",
              "      <td>53000</td>\n",
              "      <td>58000.0</td>\n",
              "    </tr>\n",
              "    <tr>\n",
              "      <th>1060</th>\n",
              "      <td>Bajaj Pulsar 150</td>\n",
              "      <td>10000</td>\n",
              "      <td>2008</td>\n",
              "      <td>Individual</td>\n",
              "      <td>1st owner</td>\n",
              "      <td>92233</td>\n",
              "      <td>75000.0</td>\n",
              "    </tr>\n",
              "  </tbody>\n",
              "</table>\n",
              "<p>1061 rows × 7 columns</p>\n",
              "</div>\n",
              "    <div class=\"colab-df-buttons\">\n",
              "\n",
              "  <div class=\"colab-df-container\">\n",
              "    <button class=\"colab-df-convert\" onclick=\"convertToInteractive('df-e23d8b2d-35ed-458c-a7ee-e44cd23a4558')\"\n",
              "            title=\"Convert this dataframe to an interactive table.\"\n",
              "            style=\"display:none;\">\n",
              "\n",
              "  <svg xmlns=\"http://www.w3.org/2000/svg\" height=\"24px\" viewBox=\"0 -960 960 960\">\n",
              "    <path d=\"M120-120v-720h720v720H120Zm60-500h600v-160H180v160Zm220 220h160v-160H400v160Zm0 220h160v-160H400v160ZM180-400h160v-160H180v160Zm440 0h160v-160H620v160ZM180-180h160v-160H180v160Zm440 0h160v-160H620v160Z\"/>\n",
              "  </svg>\n",
              "    </button>\n",
              "\n",
              "  <style>\n",
              "    .colab-df-container {\n",
              "      display:flex;\n",
              "      gap: 12px;\n",
              "    }\n",
              "\n",
              "    .colab-df-convert {\n",
              "      background-color: #E8F0FE;\n",
              "      border: none;\n",
              "      border-radius: 50%;\n",
              "      cursor: pointer;\n",
              "      display: none;\n",
              "      fill: #1967D2;\n",
              "      height: 32px;\n",
              "      padding: 0 0 0 0;\n",
              "      width: 32px;\n",
              "    }\n",
              "\n",
              "    .colab-df-convert:hover {\n",
              "      background-color: #E2EBFA;\n",
              "      box-shadow: 0px 1px 2px rgba(60, 64, 67, 0.3), 0px 1px 3px 1px rgba(60, 64, 67, 0.15);\n",
              "      fill: #174EA6;\n",
              "    }\n",
              "\n",
              "    .colab-df-buttons div {\n",
              "      margin-bottom: 4px;\n",
              "    }\n",
              "\n",
              "    [theme=dark] .colab-df-convert {\n",
              "      background-color: #3B4455;\n",
              "      fill: #D2E3FC;\n",
              "    }\n",
              "\n",
              "    [theme=dark] .colab-df-convert:hover {\n",
              "      background-color: #434B5C;\n",
              "      box-shadow: 0px 1px 3px 1px rgba(0, 0, 0, 0.15);\n",
              "      filter: drop-shadow(0px 1px 2px rgba(0, 0, 0, 0.3));\n",
              "      fill: #FFFFFF;\n",
              "    }\n",
              "  </style>\n",
              "\n",
              "    <script>\n",
              "      const buttonEl =\n",
              "        document.querySelector('#df-e23d8b2d-35ed-458c-a7ee-e44cd23a4558 button.colab-df-convert');\n",
              "      buttonEl.style.display =\n",
              "        google.colab.kernel.accessAllowed ? 'block' : 'none';\n",
              "\n",
              "      async function convertToInteractive(key) {\n",
              "        const element = document.querySelector('#df-e23d8b2d-35ed-458c-a7ee-e44cd23a4558');\n",
              "        const dataTable =\n",
              "          await google.colab.kernel.invokeFunction('convertToInteractive',\n",
              "                                                    [key], {});\n",
              "        if (!dataTable) return;\n",
              "\n",
              "        const docLinkHtml = 'Like what you see? Visit the ' +\n",
              "          '<a target=\"_blank\" href=https://colab.research.google.com/notebooks/data_table.ipynb>data table notebook</a>'\n",
              "          + ' to learn more about interactive tables.';\n",
              "        element.innerHTML = '';\n",
              "        dataTable['output_type'] = 'display_data';\n",
              "        await google.colab.output.renderOutput(dataTable, element);\n",
              "        const docLink = document.createElement('div');\n",
              "        docLink.innerHTML = docLinkHtml;\n",
              "        element.appendChild(docLink);\n",
              "      }\n",
              "    </script>\n",
              "  </div>\n",
              "\n",
              "\n",
              "<div id=\"df-658f324a-09e2-444d-84db-c6b1b100f3f1\">\n",
              "  <button class=\"colab-df-quickchart\" onclick=\"quickchart('df-658f324a-09e2-444d-84db-c6b1b100f3f1')\"\n",
              "            title=\"Suggest charts\"\n",
              "            style=\"display:none;\">\n",
              "\n",
              "<svg xmlns=\"http://www.w3.org/2000/svg\" height=\"24px\"viewBox=\"0 0 24 24\"\n",
              "     width=\"24px\">\n",
              "    <g>\n",
              "        <path d=\"M19 3H5c-1.1 0-2 .9-2 2v14c0 1.1.9 2 2 2h14c1.1 0 2-.9 2-2V5c0-1.1-.9-2-2-2zM9 17H7v-7h2v7zm4 0h-2V7h2v10zm4 0h-2v-4h2v4z\"/>\n",
              "    </g>\n",
              "</svg>\n",
              "  </button>\n",
              "\n",
              "<style>\n",
              "  .colab-df-quickchart {\n",
              "      --bg-color: #E8F0FE;\n",
              "      --fill-color: #1967D2;\n",
              "      --hover-bg-color: #E2EBFA;\n",
              "      --hover-fill-color: #174EA6;\n",
              "      --disabled-fill-color: #AAA;\n",
              "      --disabled-bg-color: #DDD;\n",
              "  }\n",
              "\n",
              "  [theme=dark] .colab-df-quickchart {\n",
              "      --bg-color: #3B4455;\n",
              "      --fill-color: #D2E3FC;\n",
              "      --hover-bg-color: #434B5C;\n",
              "      --hover-fill-color: #FFFFFF;\n",
              "      --disabled-bg-color: #3B4455;\n",
              "      --disabled-fill-color: #666;\n",
              "  }\n",
              "\n",
              "  .colab-df-quickchart {\n",
              "    background-color: var(--bg-color);\n",
              "    border: none;\n",
              "    border-radius: 50%;\n",
              "    cursor: pointer;\n",
              "    display: none;\n",
              "    fill: var(--fill-color);\n",
              "    height: 32px;\n",
              "    padding: 0;\n",
              "    width: 32px;\n",
              "  }\n",
              "\n",
              "  .colab-df-quickchart:hover {\n",
              "    background-color: var(--hover-bg-color);\n",
              "    box-shadow: 0 1px 2px rgba(60, 64, 67, 0.3), 0 1px 3px 1px rgba(60, 64, 67, 0.15);\n",
              "    fill: var(--button-hover-fill-color);\n",
              "  }\n",
              "\n",
              "  .colab-df-quickchart-complete:disabled,\n",
              "  .colab-df-quickchart-complete:disabled:hover {\n",
              "    background-color: var(--disabled-bg-color);\n",
              "    fill: var(--disabled-fill-color);\n",
              "    box-shadow: none;\n",
              "  }\n",
              "\n",
              "  .colab-df-spinner {\n",
              "    border: 2px solid var(--fill-color);\n",
              "    border-color: transparent;\n",
              "    border-bottom-color: var(--fill-color);\n",
              "    animation:\n",
              "      spin 1s steps(1) infinite;\n",
              "  }\n",
              "\n",
              "  @keyframes spin {\n",
              "    0% {\n",
              "      border-color: transparent;\n",
              "      border-bottom-color: var(--fill-color);\n",
              "      border-left-color: var(--fill-color);\n",
              "    }\n",
              "    20% {\n",
              "      border-color: transparent;\n",
              "      border-left-color: var(--fill-color);\n",
              "      border-top-color: var(--fill-color);\n",
              "    }\n",
              "    30% {\n",
              "      border-color: transparent;\n",
              "      border-left-color: var(--fill-color);\n",
              "      border-top-color: var(--fill-color);\n",
              "      border-right-color: var(--fill-color);\n",
              "    }\n",
              "    40% {\n",
              "      border-color: transparent;\n",
              "      border-right-color: var(--fill-color);\n",
              "      border-top-color: var(--fill-color);\n",
              "    }\n",
              "    60% {\n",
              "      border-color: transparent;\n",
              "      border-right-color: var(--fill-color);\n",
              "    }\n",
              "    80% {\n",
              "      border-color: transparent;\n",
              "      border-right-color: var(--fill-color);\n",
              "      border-bottom-color: var(--fill-color);\n",
              "    }\n",
              "    90% {\n",
              "      border-color: transparent;\n",
              "      border-bottom-color: var(--fill-color);\n",
              "    }\n",
              "  }\n",
              "</style>\n",
              "\n",
              "  <script>\n",
              "    async function quickchart(key) {\n",
              "      const quickchartButtonEl =\n",
              "        document.querySelector('#' + key + ' button');\n",
              "      quickchartButtonEl.disabled = true;  // To prevent multiple clicks.\n",
              "      quickchartButtonEl.classList.add('colab-df-spinner');\n",
              "      try {\n",
              "        const charts = await google.colab.kernel.invokeFunction(\n",
              "            'suggestCharts', [key], {});\n",
              "      } catch (error) {\n",
              "        console.error('Error during call to suggestCharts:', error);\n",
              "      }\n",
              "      quickchartButtonEl.classList.remove('colab-df-spinner');\n",
              "      quickchartButtonEl.classList.add('colab-df-quickchart-complete');\n",
              "    }\n",
              "    (() => {\n",
              "      let quickchartButtonEl =\n",
              "        document.querySelector('#df-658f324a-09e2-444d-84db-c6b1b100f3f1 button');\n",
              "      quickchartButtonEl.style.display =\n",
              "        google.colab.kernel.accessAllowed ? 'block' : 'none';\n",
              "    })();\n",
              "  </script>\n",
              "</div>\n",
              "\n",
              "  <div id=\"id_dd455ccd-a1cd-4ca4-b1f5-632ca861b4fc\">\n",
              "    <style>\n",
              "      .colab-df-generate {\n",
              "        background-color: #E8F0FE;\n",
              "        border: none;\n",
              "        border-radius: 50%;\n",
              "        cursor: pointer;\n",
              "        display: none;\n",
              "        fill: #1967D2;\n",
              "        height: 32px;\n",
              "        padding: 0 0 0 0;\n",
              "        width: 32px;\n",
              "      }\n",
              "\n",
              "      .colab-df-generate:hover {\n",
              "        background-color: #E2EBFA;\n",
              "        box-shadow: 0px 1px 2px rgba(60, 64, 67, 0.3), 0px 1px 3px 1px rgba(60, 64, 67, 0.15);\n",
              "        fill: #174EA6;\n",
              "      }\n",
              "\n",
              "      [theme=dark] .colab-df-generate {\n",
              "        background-color: #3B4455;\n",
              "        fill: #D2E3FC;\n",
              "      }\n",
              "\n",
              "      [theme=dark] .colab-df-generate:hover {\n",
              "        background-color: #434B5C;\n",
              "        box-shadow: 0px 1px 3px 1px rgba(0, 0, 0, 0.15);\n",
              "        filter: drop-shadow(0px 1px 2px rgba(0, 0, 0, 0.3));\n",
              "        fill: #FFFFFF;\n",
              "      }\n",
              "    </style>\n",
              "    <button class=\"colab-df-generate\" onclick=\"generateWithVariable('df')\"\n",
              "            title=\"Generate code using this dataframe.\"\n",
              "            style=\"display:none;\">\n",
              "\n",
              "  <svg xmlns=\"http://www.w3.org/2000/svg\" height=\"24px\"viewBox=\"0 0 24 24\"\n",
              "       width=\"24px\">\n",
              "    <path d=\"M7,19H8.4L18.45,9,17,7.55,7,17.6ZM5,21V16.75L18.45,3.32a2,2,0,0,1,2.83,0l1.4,1.43a1.91,1.91,0,0,1,.58,1.4,1.91,1.91,0,0,1-.58,1.4L9.25,21ZM18.45,9,17,7.55Zm-12,3A5.31,5.31,0,0,0,4.9,8.1,5.31,5.31,0,0,0,1,6.5,5.31,5.31,0,0,0,4.9,4.9,5.31,5.31,0,0,0,6.5,1,5.31,5.31,0,0,0,8.1,4.9,5.31,5.31,0,0,0,12,6.5,5.46,5.46,0,0,0,6.5,12Z\"/>\n",
              "  </svg>\n",
              "    </button>\n",
              "    <script>\n",
              "      (() => {\n",
              "      const buttonEl =\n",
              "        document.querySelector('#id_dd455ccd-a1cd-4ca4-b1f5-632ca861b4fc button.colab-df-generate');\n",
              "      buttonEl.style.display =\n",
              "        google.colab.kernel.accessAllowed ? 'block' : 'none';\n",
              "\n",
              "      buttonEl.onclick = () => {\n",
              "        google.colab.notebook.generateWithVariable('df');\n",
              "      }\n",
              "      })();\n",
              "    </script>\n",
              "  </div>\n",
              "\n",
              "    </div>\n",
              "  </div>\n"
            ],
            "application/vnd.google.colaboratory.intrinsic+json": {
              "type": "dataframe",
              "variable_name": "df",
              "summary": "{\n  \"name\": \"df\",\n  \"rows\": 1061,\n  \"fields\": [\n    {\n      \"column\": \"name\",\n      \"properties\": {\n        \"dtype\": \"category\",\n        \"num_unique_values\": 279,\n        \"samples\": [\n          \"Hero Xtreme Sports\",\n          \"Hero Honda Passion\",\n          \"TVS Streak\"\n        ],\n        \"semantic_type\": \"\",\n        \"description\": \"\"\n      }\n    },\n    {\n      \"column\": \"selling_price\",\n      \"properties\": {\n        \"dtype\": \"number\",\n        \"std\": 56304,\n        \"min\": 5000,\n        \"max\": 760000,\n        \"num_unique_values\": 130,\n        \"samples\": [\n          72000,\n          160000,\n          26000\n        ],\n        \"semantic_type\": \"\",\n        \"description\": \"\"\n      }\n    },\n    {\n      \"column\": \"year\",\n      \"properties\": {\n        \"dtype\": \"number\",\n        \"std\": 4,\n        \"min\": 1988,\n        \"max\": 2020,\n        \"num_unique_values\": 28,\n        \"samples\": [\n          2012,\n          2003,\n          2020\n        ],\n        \"semantic_type\": \"\",\n        \"description\": \"\"\n      }\n    },\n    {\n      \"column\": \"seller_type\",\n      \"properties\": {\n        \"dtype\": \"category\",\n        \"num_unique_values\": 2,\n        \"samples\": [\n          \"Dealer\",\n          \"Individual\"\n        ],\n        \"semantic_type\": \"\",\n        \"description\": \"\"\n      }\n    },\n    {\n      \"column\": \"owner\",\n      \"properties\": {\n        \"dtype\": \"category\",\n        \"num_unique_values\": 4,\n        \"samples\": [\n          \"2nd owner\",\n          \"4th owner\"\n        ],\n        \"semantic_type\": \"\",\n        \"description\": \"\"\n      }\n    },\n    {\n      \"column\": \"km_driven\",\n      \"properties\": {\n        \"dtype\": \"number\",\n        \"std\": 51623,\n        \"min\": 350,\n        \"max\": 880000,\n        \"num_unique_values\": 304,\n        \"samples\": [\n          19500,\n          11500\n        ],\n        \"semantic_type\": \"\",\n        \"description\": \"\"\n      }\n    },\n    {\n      \"column\": \"ex_showroom_price\",\n      \"properties\": {\n        \"dtype\": \"number\",\n        \"std\": 77496.58718945317,\n        \"min\": 30490.0,\n        \"max\": 1278000.0,\n        \"num_unique_values\": 230,\n        \"samples\": [\n          54000.0,\n          64589.0\n        ],\n        \"semantic_type\": \"\",\n        \"description\": \"\"\n      }\n    }\n  ]\n}"
            }
          },
          "metadata": {},
          "execution_count": 26
        }
      ],
      "source": [
        "import pandas as pd\n",
        "import numpy as np\n",
        "import matplotlib.pyplot as plt\n",
        "import seaborn as sns\n",
        "df=pd.read_csv('BIKE DETAILS.csv')\n",
        "df\n"
      ]
    },
    {
      "cell_type": "code",
      "source": [
        "selling_prices = df['selling_price']"
      ],
      "metadata": {
        "id": "AI0ITiw7n8K7"
      },
      "execution_count": 2,
      "outputs": []
    },
    {
      "cell_type": "code",
      "source": [
        "max_price = selling_prices.max()\n",
        "min_price = selling_prices.min()"
      ],
      "metadata": {
        "id": "amnY4ZtjoCFQ"
      },
      "execution_count": 3,
      "outputs": []
    },
    {
      "cell_type": "code",
      "source": [
        "price_range = max_price - min_price"
      ],
      "metadata": {
        "id": "QLcnGq5OoFFb"
      },
      "execution_count": 4,
      "outputs": []
    },
    {
      "cell_type": "code",
      "source": [
        "print(f\"Maximum Selling Price: {max_price} INR\")\n",
        "print(f\"Minimum Selling Price: {min_price} INR\")\n",
        "print(f\"Range of Selling Prices: {price_range} INR\")"
      ],
      "metadata": {
        "colab": {
          "base_uri": "https://localhost:8080/"
        },
        "id": "wPw288IGoHup",
        "outputId": "a31e46cb-8535-4f1c-f5b1-d81ab57358f9"
      },
      "execution_count": 5,
      "outputs": [
        {
          "output_type": "stream",
          "name": "stdout",
          "text": [
            "Maximum Selling Price: 760000 INR\n",
            "Minimum Selling Price: 5000 INR\n",
            "Range of Selling Prices: 755000 INR\n"
          ]
        }
      ]
    },
    {
      "cell_type": "code",
      "source": [
        "#1.What is the range of selling prices in the dataset?\n",
        "'''\n",
        "Ans-   Range of Selling Prices: 755000 INR\n",
        "\n",
        "'''\n"
      ],
      "metadata": {
        "colab": {
          "base_uri": "https://localhost:8080/",
          "height": 36
        },
        "id": "DwwjWY6noLdS",
        "outputId": "425714e0-79ab-4c1e-e3bd-d76755389fe3"
      },
      "execution_count": 6,
      "outputs": [
        {
          "output_type": "execute_result",
          "data": {
            "text/plain": [
              "'\\nAns-   Range of Selling Prices: 755000 INR\\n'"
            ],
            "application/vnd.google.colaboratory.intrinsic+json": {
              "type": "string"
            }
          },
          "metadata": {},
          "execution_count": 6
        }
      ]
    },
    {
      "cell_type": "code",
      "source": [
        "median_price = selling_prices.median()\n",
        "print(f\"Median Selling Price: {median_price} INR\")"
      ],
      "metadata": {
        "colab": {
          "base_uri": "https://localhost:8080/"
        },
        "id": "EGgElEZ4oxmm",
        "outputId": "c1d22a23-e3e2-4143-aacf-f963b36f1b3e"
      },
      "execution_count": 7,
      "outputs": [
        {
          "output_type": "stream",
          "name": "stdout",
          "text": [
            "Median Selling Price: 45000.0 INR\n"
          ]
        }
      ]
    },
    {
      "cell_type": "code",
      "source": [
        "#2. What is the median selling price for bikes in the dataset?\n",
        "'''\n",
        "Ans-Median Selling Price: 45000.0 INR\n",
        "\n",
        "'''"
      ],
      "metadata": {
        "colab": {
          "base_uri": "https://localhost:8080/",
          "height": 36
        },
        "id": "LPa8v4PlpEIZ",
        "outputId": "2a610a7b-306a-4b97-f1ec-596c97e1631f"
      },
      "execution_count": 8,
      "outputs": [
        {
          "output_type": "execute_result",
          "data": {
            "text/plain": [
              "'\\nAns-Median Selling Price: 45000.0 INR\\n\\n'"
            ],
            "application/vnd.google.colaboratory.intrinsic+json": {
              "type": "string"
            }
          },
          "metadata": {},
          "execution_count": 8
        }
      ]
    },
    {
      "cell_type": "code",
      "source": [
        "seller_counts = df['seller_type'].value_counts()\n",
        "\n",
        "most_common_seller = seller_counts.idxmax()\n",
        "most_common_count = seller_counts.max()\n",
        "\n",
        "print(f\"Most Common Seller Type: {most_common_seller}\")\n",
        "print(f\"Number of Listings: {most_common_count}\")"
      ],
      "metadata": {
        "colab": {
          "base_uri": "https://localhost:8080/"
        },
        "id": "lb9bhUyUpNuF",
        "outputId": "20e7d9d2-bebe-4ecf-dee6-0f3987b483ee"
      },
      "execution_count": 9,
      "outputs": [
        {
          "output_type": "stream",
          "name": "stdout",
          "text": [
            "Most Common Seller Type: Individual\n",
            "Number of Listings: 1055\n"
          ]
        }
      ]
    },
    {
      "cell_type": "code",
      "source": [
        "#3.What is the most common seller type?\n",
        "'''\n",
        "Ans-Most Common Seller Type: Individual\n",
        "   Number of Listings: 1055\n",
        "'''\n"
      ],
      "metadata": {
        "colab": {
          "base_uri": "https://localhost:8080/",
          "height": 36
        },
        "id": "KZaD6Pmupb7Y",
        "outputId": "54f4c301-2f4c-4f7f-92f2-fe00186ca0db"
      },
      "execution_count": 10,
      "outputs": [
        {
          "output_type": "execute_result",
          "data": {
            "text/plain": [
              "' \\nAns-Most Common Seller Type: Individual\\n   Number of Listings: 1055\\n'"
            ],
            "application/vnd.google.colaboratory.intrinsic+json": {
              "type": "string"
            }
          },
          "metadata": {},
          "execution_count": 10
        }
      ]
    },
    {
      "cell_type": "code",
      "source": [
        "km_driven = df['km_driven'].to_numpy()\n",
        "\n",
        "\n",
        "count_high_mileage = np.sum(km_driven > 50000)\n",
        "\n",
        "print(f\"Number of bikes with more than 50,000 km driven: {count_high_mileage}\")"
      ],
      "metadata": {
        "colab": {
          "base_uri": "https://localhost:8080/"
        },
        "id": "VI-AS8KepqQH",
        "outputId": "15ebda58-1036-41f2-9d8d-4e49f4429ac0"
      },
      "execution_count": 12,
      "outputs": [
        {
          "output_type": "stream",
          "name": "stdout",
          "text": [
            "Number of bikes with more than 50,000 km driven: 170\n"
          ]
        }
      ]
    },
    {
      "cell_type": "code",
      "source": [
        "#4.How many bikes have driven more than 50,000 kilometers?\n",
        "'''\n",
        "Ans- Number of bikes with more than 50,000 km driven: 170\n",
        "\n",
        "'''"
      ],
      "metadata": {
        "colab": {
          "base_uri": "https://localhost:8080/",
          "height": 36
        },
        "id": "B5d3wzjiqEHA",
        "outputId": "123a6e31-0e22-4f58-a442-f42687c01a02"
      },
      "execution_count": 13,
      "outputs": [
        {
          "output_type": "execute_result",
          "data": {
            "text/plain": [
              "'\\nAns- Number of bikes with more than 50,000 km driven: 170\\n\\n'"
            ],
            "application/vnd.google.colaboratory.intrinsic+json": {
              "type": "string"
            }
          },
          "metadata": {},
          "execution_count": 13
        }
      ]
    },
    {
      "cell_type": "code",
      "source": [
        "owners = df['owner'].unique()\n",
        "\n",
        "print(\"Average km_driven for each ownership type:\")\n",
        "for owner in owners:\n",
        "    km_for_owner = df[df['owner'] == owner]['km_driven'].to_numpy()\n",
        "    avg_km = int(np.mean(km_for_owner))\n",
        "    print(f\"{owner}: {avg_km}\")"
      ],
      "metadata": {
        "colab": {
          "base_uri": "https://localhost:8080/"
        },
        "id": "FVF67A9oqM15",
        "outputId": "7a1389f2-cf93-4c7f-fc5c-8ae4c7576b1f"
      },
      "execution_count": 15,
      "outputs": [
        {
          "output_type": "stream",
          "name": "stdout",
          "text": [
            "Average km_driven for each ownership type:\n",
            "1st owner: 32816\n",
            "2nd owner: 39288\n",
            "3rd owner: 33292\n",
            "4th owner: 311500\n"
          ]
        }
      ]
    },
    {
      "cell_type": "code",
      "source": [
        "#5.What is the average km_driven value for each ownership type?\n",
        "'''\n",
        "Ans- Average km_driven for each ownership type:\n",
        "1st owner: 32816\n",
        "2nd owner: 39288\n",
        "3rd owner: 33292\n",
        "4th owner: 311500\n",
        "\n",
        "'''"
      ],
      "metadata": {
        "id": "e96O9t-IqVyy"
      },
      "execution_count": null,
      "outputs": []
    },
    {
      "cell_type": "code",
      "source": [
        "years = df['year'].to_numpy()\n",
        "\n",
        "count_2015_or_older = np.sum(years <= 2015)\n",
        "\n",
        "total_bikes = len(years)\n",
        "\n",
        "proportion = count_2015_or_older / total_bikes\n",
        "\n",
        "print(f\"Proportion of bikes from 2015 or older: {proportion:.2f}\")"
      ],
      "metadata": {
        "colab": {
          "base_uri": "https://localhost:8080/"
        },
        "id": "1jWhor53q06F",
        "outputId": "89fa97ff-8e70-418d-b6c8-171e0500b9e2"
      },
      "execution_count": 16,
      "outputs": [
        {
          "output_type": "stream",
          "name": "stdout",
          "text": [
            "Proportion of bikes from 2015 or older: 0.57\n"
          ]
        }
      ]
    },
    {
      "cell_type": "code",
      "source": [
        "#6.What proportion of bikes are from the year 2015 or older?\n",
        "'''\n",
        "Ans-Proportion of bikes from 2015 or older: 0.57\n",
        "\n",
        "'''"
      ],
      "metadata": {
        "id": "vfSjQeDZq6Nt"
      },
      "execution_count": null,
      "outputs": []
    },
    {
      "cell_type": "code",
      "source": [
        "missing_values = df.isnull().sum()\n",
        "total_rows = len(df)\n",
        "missing_proportion = (missing_values / total_rows).round(2)\n",
        "print(\"Missing Values Summary:\")\n",
        "print(pd.DataFrame({'Missing Values': missing_values, 'Proportion': missing_proportion}))"
      ],
      "metadata": {
        "colab": {
          "base_uri": "https://localhost:8080/"
        },
        "id": "ut0KY05LrM3m",
        "outputId": "f7d69c80-f44a-49ef-96fe-9a9434dcf99f"
      },
      "execution_count": 17,
      "outputs": [
        {
          "output_type": "stream",
          "name": "stdout",
          "text": [
            "Missing Values Summary:\n",
            "                   Missing Values  Proportion\n",
            "name                            0        0.00\n",
            "selling_price                   0        0.00\n",
            "year                            0        0.00\n",
            "seller_type                     0        0.00\n",
            "owner                           0        0.00\n",
            "km_driven                       0        0.00\n",
            "ex_showroom_price             435        0.41\n"
          ]
        }
      ]
    },
    {
      "cell_type": "code",
      "source": [
        "#7.What is the trend of missing values across the dataset?\n",
        "'''\n",
        "Ans-Missing Values Summary:\n",
        "                   Missing Values  Proportion\n",
        "name                            0        0.00\n",
        "selling_price                   0        0.00\n",
        "year                            0        0.00\n",
        "seller_type                     0        0.00\n",
        "owner                           0        0.00\n",
        "km_driven                       0        0.00\n",
        "ex_showroom_price             435        0.41\n",
        "\n",
        "'''"
      ],
      "metadata": {
        "id": "utp6XQx7rSGn"
      },
      "execution_count": null,
      "outputs": []
    },
    {
      "cell_type": "code",
      "source": [
        "max_price_row = df.loc[df['ex_showroom_price'].idxmax()]\n",
        "print(f\"Highest ex_showroom_price: {max_price_row['ex_showroom_price']} INR\")\n",
        "print(f\"Bike: {max_price_row['name']}\")"
      ],
      "metadata": {
        "colab": {
          "base_uri": "https://localhost:8080/"
        },
        "id": "T1e9FN7Tro5b",
        "outputId": "912a2de0-63f3-4ab2-e8a5-085f37f9afff"
      },
      "execution_count": 18,
      "outputs": [
        {
          "output_type": "stream",
          "name": "stdout",
          "text": [
            "Highest ex_showroom_price: 1278000.0 INR\n",
            "Bike: Harley-Davidson Street Bob\n"
          ]
        }
      ]
    },
    {
      "cell_type": "code",
      "source": [
        "#8.What is the highest ex_showroom_price recorded, and for which bike?\n",
        "'''\n",
        "Ans-Highest ex_showroom_price: 1278000.0 INR\n",
        "Bike: Harley-Davidson Street Bob\n",
        "\n",
        "'''"
      ],
      "metadata": {
        "id": "AZhA30-orpRC"
      },
      "execution_count": null,
      "outputs": []
    },
    {
      "cell_type": "code",
      "source": [
        "seller_counts = df['seller_type'].value_counts()\n",
        "print(\"Total number of bikes listed by each seller type:\")\n",
        "print(seller_counts)"
      ],
      "metadata": {
        "colab": {
          "base_uri": "https://localhost:8080/"
        },
        "id": "BbLmLUA1sE-u",
        "outputId": "8c092c61-855c-4586-f736-8ff61c5f4e0d"
      },
      "execution_count": 19,
      "outputs": [
        {
          "output_type": "stream",
          "name": "stdout",
          "text": [
            "Total number of bikes listed by each seller type:\n",
            "seller_type\n",
            "Individual    1055\n",
            "Dealer           6\n",
            "Name: count, dtype: int64\n"
          ]
        }
      ]
    },
    {
      "cell_type": "code",
      "source": [
        "#9.What is the total number of bikes listed by each seller type?\n",
        "'''\n",
        "Ans-Total number of bikes listed by each seller type:\n",
        "seller_type\n",
        "Individual    1055\n",
        "Dealer           6\n",
        "Name: count, dtype: int64\n",
        "\n",
        "'''"
      ],
      "metadata": {
        "id": "lohJznHGsFB2"
      },
      "execution_count": null,
      "outputs": []
    },
    {
      "cell_type": "code",
      "source": [
        "#10.What is the relationship between selling_price and km_driven for first-owner bikes?\n",
        "\n",
        "first_owner_bikes = df[df['owner'] == '1st owner']\n",
        "\n",
        "selling_price = first_owner_bikes['selling_price']\n",
        "km_driven = first_owner_bikes['km_driven']\n",
        "\n",
        "correlation = np.corrcoef(selling_price, km_driven)[0, 1]\n",
        "\n",
        "\n",
        "print(f\"Correlation between selling_price and km_driven for first-owner bikes: {correlation:.3f}\")\n",
        "print(\"\\nRelationship Trend:\")\n",
        "if correlation < -0.5:\n",
        "    print(\"Strong negative correlation: Higher km_driven is strongly associated with lower selling_price.\")\n",
        "elif correlation < -0.2:\n",
        "    print(\"Moderate negative correlation: Higher km_driven tends to be associated with lower selling_price.\")\n",
        "elif correlation < 0.2:\n",
        "    print(\"Weak or no correlation: km_driven has little to no linear relationship with selling_price.\")\n",
        "else:\n",
        "    print(\"Positive correlation: Higher km_driven is associated with higher selling_price (unexpected).\")\n",
        "\n",
        "\n"
      ],
      "metadata": {
        "colab": {
          "base_uri": "https://localhost:8080/"
        },
        "id": "x1Wt9gc9sssK",
        "outputId": "52f3eb4f-bab3-433b-c860-007d3bcb0c2e"
      },
      "execution_count": 23,
      "outputs": [
        {
          "output_type": "stream",
          "name": "stdout",
          "text": [
            "Correlation between selling_price and km_driven for first-owner bikes: -0.243\n",
            "\n",
            "Relationship Trend:\n",
            "Moderate negative correlation: Higher km_driven tends to be associated with lower selling_price.\n"
          ]
        }
      ]
    },
    {
      "cell_type": "code",
      "source": [
        "#11. Identify and remove outliers in the km_driven column using the IQR method?\n",
        "\n",
        "Q1 = df['km_driven'].quantile(0.25)\n",
        "Q3 = df['km_driven'].quantile(0.75)\n",
        "IQR = Q3 - Q1\n",
        "\n",
        "lower_bound = Q1 - 1.5 * IQR\n",
        "upper_bound = Q3 + 1.5 * IQR\n",
        "\n",
        "outliers = df[(df['km_driven'] < lower_bound) | (df['km_driven'] > upper_bound)]\n",
        "\n",
        "df_no_outliers = df[(df['km_driven'] >= lower_bound) & (df['km_driven'] <= upper_bound)]\n",
        "\n",
        "num_outliers = len(outliers)\n",
        "\n",
        "print(f\"Q1 (25th percentile): {Q1:.0f} km\")\n",
        "print(f\"Q3 (75th percentile): {Q3:.0f} km\")\n",
        "print(f\"IQR: {IQR:.0f} km\")\n",
        "print(f\"Lower bound: {lower_bound:.0f} km\")\n",
        "print(f\"Upper bound: {upper_bound:.0f} km\")\n",
        "print(f\"Number of outliers: {num_outliers}\")\n",
        "print(f\"Original dataset size: {len(df)}\")\n",
        "print(f\"Dataset size after removing outliers: {len(df_no_outliers)}\")\n",
        "print(\"\\nSample outliers (if any):\")\n",
        "print(outliers[['name', 'km_driven']].head() if num_outliers > 0 else \"No outliers found.\")"
      ],
      "metadata": {
        "colab": {
          "base_uri": "https://localhost:8080/"
        },
        "id": "bQ-5ZKH3tEU8",
        "outputId": "a6cf4395-a7a4-4212-e05d-ccf5c002ae67"
      },
      "execution_count": 25,
      "outputs": [
        {
          "output_type": "stream",
          "name": "stdout",
          "text": [
            "Q1 (25th percentile): 13500 km\n",
            "Q3 (75th percentile): 43000 km\n",
            "IQR: 29500 km\n",
            "Lower bound: -30750 km\n",
            "Upper bound: 87250 km\n",
            "Number of outliers: 39\n",
            "Original dataset size: 1061\n",
            "Dataset size after removing outliers: 1022\n",
            "\n",
            "Sample outliers (if any):\n",
            "                         name  km_driven\n",
            "91   Honda Activa [2000-2015]     500000\n",
            "93              Suzuki GS150R     130000\n",
            "115   Hero Honda Passion Plus     120000\n",
            "135    Hero Honda CBZ extreme      90000\n",
            "154        Hero Xtreme Sports      99000\n"
          ]
        }
      ]
    },
    {
      "cell_type": "code",
      "source": [
        "#12.Perform a bivariate analysis to visualize the relationship between year and selling_price?\n",
        "year = df['year']\n",
        "selling_price = df['selling_price']\n",
        "\n",
        "correlation = np.corrcoef(year, selling_price)[0, 1]\n",
        "\n",
        "print(f\"Correlation between year and selling_price: {correlation:.3f}\")\n",
        "print(\"\\nRelationship Trend:\")\n",
        "if correlation > 0.5:\n",
        "    print(\"Strong positive correlation: Newer bikes tend to have significantly higher selling prices.\")\n",
        "elif correlation > 0.2:\n",
        "    print(\"Moderate positive correlation: Newer bikes tend to have higher selling prices.\")\n",
        "elif correlation > -0.2:\n",
        "    print(\"Weak or no correlation: Year has little linear relationship with selling_price.\")\n",
        "else:\n",
        "    print(\"Negative correlation: Older bikes tend to have higher selling prices (unexpected).\")\n",
        "\n",
        "\n",
        "print(\"\\nCreating scatter plot to visualize the relationship...\")\n",
        "plt.figure(figsize=(10, 6))\n",
        "sns.scatterplot(data=df, x='year', y='selling_price', alpha=0.5)\n",
        "plt.title('Year vs. Selling Price of Bikes')\n",
        "plt.xlabel('Manufacturing Year')\n",
        "plt.ylabel('Selling Price (INR)')\n",
        "plt.grid(True)\n",
        "plt.show()"
      ],
      "metadata": {
        "colab": {
          "base_uri": "https://localhost:8080/",
          "height": 668
        },
        "id": "sL7R50vCtq4U",
        "outputId": "4ac74d88-5450-4c3a-95cf-2fcd47b6a19a"
      },
      "execution_count": 27,
      "outputs": [
        {
          "output_type": "stream",
          "name": "stdout",
          "text": [
            "Correlation between year and selling_price: 0.402\n",
            "\n",
            "Relationship Trend:\n",
            "Moderate positive correlation: Newer bikes tend to have higher selling prices.\n",
            "\n",
            "Creating scatter plot to visualize the relationship...\n"
          ]
        },
        {
          "output_type": "display_data",
          "data": {
            "text/plain": [
              "<Figure size 1000x600 with 1 Axes>"
            ],
            "image/png": "[encoded data removed]"
          },
          "metadata": {}
        }
      ]
    },
    {
      "cell_type": "code",
      "source": [
        "#13.B What is the average depreciation in selling price based on the bike's age (current year - manufacturing year)\n",
        "current_year = 2020\n",
        "\n",
        "df['age'] = current_year - df['year']\n",
        "\n",
        "valid_bikes = df.dropna(subset=['ex_showroom_price']).copy()\n",
        "valid_bikes = valid_bikes[valid_bikes['age'] > 0]\n",
        "\n",
        "valid_bikes['depreciation_per_year'] = (valid_bikes['ex_showroom_price'] - valid_bikes['selling_price']) / valid_bikes['age']\n",
        "\n",
        "avg_depreciation = valid_bikes['depreciation_per_year'].mean()\n",
        "\n",
        "print(f\"Number of bikes with valid ex_showroom_price: {len(valid_bikes)}\")\n",
        "print(f\"Average depreciation per year: {avg_depreciation:.0f} INR\")\n",
        "print(\"\\nSample depreciation calculations:\")\n",
        "print(valid_bikes[['name', 'year', 'ex_showroom_price', 'selling_price', 'age', 'depreciation_per_year']].head())\n",
        "\n"
      ],
      "metadata": {
        "colab": {
          "base_uri": "https://localhost:8080/"
        },
        "id": "tzpm8bznuftp",
        "outputId": "78ba0ab0-fdba-4c4d-f62f-633a0f2f8cb3"
      },
      "execution_count": 28,
      "outputs": [
        {
          "output_type": "stream",
          "name": "stdout",
          "text": [
            "Number of bikes with valid ex_showroom_price: 625\n",
            "Average depreciation per year: 5785 INR\n",
            "\n",
            "Sample depreciation calculations:\n",
            "                                  name  year  ex_showroom_price  \\\n",
            "2  Royal Enfield Classic Gunmetal Grey  2018           148114.0   \n",
            "3    Yamaha Fazer FI V 2.0 [2016-2018]  2015            89643.0   \n",
            "5                     Honda CB Twister  2010            53857.0   \n",
            "6                 Honda CB Hornet 160R  2018            87719.0   \n",
            "9                   Bajaj Discover 125  2016            60122.0   \n",
            "\n",
            "   selling_price  age  depreciation_per_year  \n",
            "2         150000    2                 -943.0  \n",
            "3          65000    5                 4928.6  \n",
            "5          18000   10                 3585.7  \n",
            "6          78500    2                 4609.5  \n",
            "9          50000    4                 2530.5  \n"
          ]
        }
      ]
    },
    {
      "cell_type": "code",
      "source": [
        "#14.Which bike names are priced significantly above the average price for their manufacturing year?\n",
        "\n",
        "year_stats = df.groupby('year')['selling_price'].agg(['mean', 'std']).reset_index()\n",
        "\n",
        "df = df.merge(year_stats, on='year', how='left')\n",
        "\n",
        "df['threshold'] = df['mean'] + df['std']\n",
        "\n",
        "high_priced_bikes = df[df['selling_price'] > df['threshold']][['name', 'year', 'selling_price', 'mean', 'threshold']]\n",
        "\n",
        "high_priced_bikes = high_priced_bikes.sort_values(['year', 'selling_price'], ascending=[True, False])\n",
        "\n",
        "\n",
        "print(f\"Total number of bikes priced significantly above average: {len(high_priced_bikes)}\")\n",
        "print(\"\\nBikes priced significantly above average for their manufacturing year:\")\n",
        "print(high_priced_bikes[['name', 'year', 'selling_price', 'mean', 'threshold']])\n"
      ],
      "metadata": {
        "colab": {
          "base_uri": "https://localhost:8080/"
        },
        "id": "SiYaGwQRvDDY",
        "outputId": "365c149d-5313-4033-fc29-51b490ddd7db"
      },
      "execution_count": 29,
      "outputs": [
        {
          "output_type": "stream",
          "name": "stdout",
          "text": [
            "Total number of bikes priced significantly above average: 125\n",
            "\n",
            "Bikes priced significantly above average for their manufacturing year:\n",
            "                                 name  year  selling_price           mean  \\\n",
            "554                      Yamaha RX135  1998          65000   28333.333333   \n",
            "306                         Yamaha Rx  2000          70000   20833.333333   \n",
            "903          Hero Honda Splendor Plus  2004          20000   15100.000000   \n",
            "889     Royal Enfield Thunderbird 350  2005          59000   16978.571429   \n",
            "776         Royal Enfield Electra 5 S  2006          99000   23380.000000   \n",
            "..                                ...   ...            ...            ...   \n",
            "130  Royal Enfield Continental GT 650  2019         299000  119689.511628   \n",
            "315     Royal Enfield Interceptor 650  2019         285000  119689.511628   \n",
            "288                        KTM RC 390  2019         270000  119689.511628   \n",
            "407     Royal Enfield Interceptor 650  2019         270000  119689.511628   \n",
            "261     Royal Enfield Interceptor 650  2019         260000  119689.511628   \n",
            "\n",
            "         threshold  \n",
            "554   60478.835870  \n",
            "306   45002.873392  \n",
            "903   19848.684028  \n",
            "889   29782.668043  \n",
            "776   44204.166123  \n",
            "..             ...  \n",
            "130  216392.862305  \n",
            "315  216392.862305  \n",
            "288  216392.862305  \n",
            "407  216392.862305  \n",
            "261  216392.862305  \n",
            "\n",
            "[125 rows x 5 columns]\n"
          ]
        }
      ]
    },
    {
      "cell_type": "code",
      "source": [
        "#15.Develop a correlation matrix for numeric columns and visualize it using a heatmap.\n",
        "\n",
        "numeric_cols = ['selling_price', 'year', 'km_driven', 'ex_showroom_price']\n",
        "numeric_df = df[numeric_cols]\n",
        "\n",
        "corr_matrix = numeric_df.corr(method='pearson')\n",
        "\n",
        "print(\"Correlation Matrix for Numeric Columns:\")\n",
        "print(corr_matrix.round(3))\n",
        "\n",
        "print(\"\\nCreating heatmap to visualize correlations...\")\n",
        "plt.figure(figsize=(8, 6))\n",
        "sns.heatmap(corr_matrix, annot=True, cmap='coolwarm', vmin=-1, vmax=1, center=0, fmt='.3f')\n",
        "plt.title('Correlation Matrix of Numeric Columns')\n",
        "plt.show()\n",
        "\n"
      ],
      "metadata": {
        "colab": {
          "base_uri": "https://localhost:8080/",
          "height": 684
        },
        "id": "3b-MJ53Svide",
        "outputId": "238ae600-1906-4d94-ad3c-9c2d65b297e2"
      },
      "execution_count": 31,
      "outputs": [
        {
          "output_type": "stream",
          "name": "stdout",
          "text": [
            "Correlation Matrix for Numeric Columns:\n",
            "                   selling_price   year  km_driven  ex_showroom_price\n",
            "selling_price              1.000  0.402     -0.213              0.919\n",
            "year                       0.402  1.000     -0.289              0.126\n",
            "km_driven                 -0.213 -0.289      1.000             -0.122\n",
            "ex_showroom_price          0.919  0.126     -0.122              1.000\n",
            "\n",
            "Creating heatmap to visualize correlations...\n"
          ]
        },
        {
          "output_type": "display_data",
          "data": {
            "text/plain": [
              "<Figure size 800x600 with 2 Axes>"
            ],
            "image/png": "[encoded data removed]"
          },
          "metadata": {}
        }
      ]
    },
    {
      "cell_type": "code",
      "source": [],
      "metadata": {
        "id": "_Ia90YELwDRs"
      },
      "execution_count": null,
      "outputs": []
    }
  ]
}