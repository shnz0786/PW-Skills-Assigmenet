{
  "nbformat": 4,
  "nbformat_minor": 0,
  "metadata": {
    "colab": {
      "provenance": [],
      "toc_visible": true
    },
    "kernelspec": {
      "name": "python3",
      "display_name": "Python 3"
    },
    "language_info": {
      "name": "python"
    }
  },
  "cells": [
    {
      "cell_type": "code",
      "execution_count": 3,
      "metadata": {
        "colab": {
          "base_uri": "https://localhost:8080/"
        },
        "id": "Oxwq2aAYHXL6",
        "outputId": "51b1a897-6adc-4e9e-8fd5-ee03f725c556"
      },
      "outputs": [
        {
          "output_type": "stream",
          "name": "stdout",
          "text": [
            "Hello, World!\n"
          ]
        }
      ],
      "source": [
        "# 1-Write a Python program to print \"Hello, World!_\n",
        "\n",
        "\n",
        "print(\"Hello, World!\")"
      ]
    },
    {
      "cell_type": "code",
      "source": [
        "# 2-0 Write a Python program that displays your name and age.\n",
        "\n",
        "\n",
        "name=\"Serajul Haque\"\n",
        "age=25\n",
        "print(\"My name is %s and my age is %d\" % (name, age))\n"
      ],
      "metadata": {
        "colab": {
          "base_uri": "https://localhost:8080/"
        },
        "id": "EsjyieXSndBb",
        "outputId": "c5b7f075-2865-43c4-841c-c49a0a60e9a2"
      },
      "execution_count": 6,
      "outputs": [
        {
          "output_type": "stream",
          "name": "stdout",
          "text": [
            "My name is Serajul Haque and my age is 25\n"
          ]
        }
      ]
    },
    {
      "cell_type": "code",
      "source": [
        "# 3- Write code to print all the pre-defined keywords in Python using the keyword library0.\n",
        "\n",
        "import keyword\n",
        "print(keyword.kwlist)"
      ],
      "metadata": {
        "colab": {
          "base_uri": "https://localhost:8080/"
        },
        "id": "BpXektnXpO7k",
        "outputId": "597c0900-c23f-4999-9045-4708dbcf2cee"
      },
      "execution_count": 10,
      "outputs": [
        {
          "output_type": "stream",
          "name": "stdout",
          "text": [
            "['False', 'None', 'True', 'and', 'as', 'assert', 'async', 'await', 'break', 'class', 'continue', 'def', 'del', 'elif', 'else', 'except', 'finally', 'for', 'from', 'global', 'if', 'import', 'in', 'is', 'lambda', 'nonlocal', 'not', 'or', 'pass', 'raise', 'return', 'try', 'while', 'with', 'yield']\n"
          ]
        }
      ]
    },
    {
      "cell_type": "code",
      "source": [
        "# 4-Write a program that checks if a given word is a Python keyword.\n",
        "\n",
        "import keyword\n",
        "word = \"for\"\n",
        "if keyword.iskeyword(word):\n",
        "    print(\"for is a Python keyword.\")\n",
        "else:\n",
        "    print(\"for is not a Python keyword.\")"
      ],
      "metadata": {
        "colab": {
          "base_uri": "https://localhost:8080/"
        },
        "id": "YLQq_5-dpnZa",
        "outputId": "8a6dd570-4d8a-4dab-ef48-34f9bc107267"
      },
      "execution_count": 12,
      "outputs": [
        {
          "output_type": "stream",
          "name": "stdout",
          "text": [
            "for is a Python keyword.\n"
          ]
        }
      ]
    },
    {
      "cell_type": "code",
      "source": [
        "#5-Create a list and tuple in Python, and demonstrate how attempting to change an element works differently\n",
        "#For list\n",
        "my_list = [1, 2, 3, 4, 5]\n",
        "\n",
        "\n",
        "print(\"Original list:\", my_list)\n",
        "my_list[2] = 99\n",
        "print(\"Modified list:\", my_list)\n",
        "\n"
      ],
      "metadata": {
        "colab": {
          "base_uri": "https://localhost:8080/"
        },
        "id": "WScuqFK_qIez",
        "outputId": "f61d93a7-1145-486f-91c6-43f013dcc05f"
      },
      "execution_count": 16,
      "outputs": [
        {
          "output_type": "stream",
          "name": "stdout",
          "text": [
            "Original list: [1, 2, 3, 4, 5]\n",
            "Modified list: [1, 2, 99, 4, 5]\n"
          ]
        }
      ]
    },
    {
      "cell_type": "code",
      "source": [
        "# For tuple:\n",
        "my_tuple = (1, 2, 3, 4, 5)\n",
        "\n",
        "print(\"Original tuple:\", my_tuple)\n",
        "\n",
        "try:\n",
        "    my_tuple[2] = 99  # This should raise a TypeError because tuples are immutable\n",
        "except TypeError as e:\n",
        "    print(\"Error modifying tuple:\", e)\n"
      ],
      "metadata": {
        "colab": {
          "base_uri": "https://localhost:8080/"
        },
        "id": "4C7t-jlprMuz",
        "outputId": "0ed6ac72-e099-49f5-8176-73bdcfa36f56"
      },
      "execution_count": 21,
      "outputs": [
        {
          "output_type": "stream",
          "name": "stdout",
          "text": [
            "Original tuple: (1, 2, 3, 4, 5)\n",
            "Error modifying tuple: 'tuple' object does not support item assignment\n"
          ]
        }
      ]
    },
    {
      "cell_type": "code",
      "source": [
        "#6- Write a function to demonstrate the behavior of mutable and immutable arguments0.\n",
        "#Mutability\n",
        "my_list = [1, 2, 3]\n",
        "def modify_list(my_list):\n",
        "    my_list[2] = 5\n",
        "\n",
        "sample_list = [1, 2, 3]\n",
        "\n",
        "print(\"List before function call:\", sample_list)\n",
        "\n",
        "modify_list(sample_list)\n",
        "\n",
        "print(\"List after function call:\", sample_list)\n",
        "\n"
      ],
      "metadata": {
        "colab": {
          "base_uri": "https://localhost:8080/"
        },
        "id": "PQFdwe-Aru7V",
        "outputId": "8bd8323f-89a0-4520-834b-0951bd76d933"
      },
      "execution_count": 29,
      "outputs": [
        {
          "output_type": "stream",
          "name": "stdout",
          "text": [
            "List before function call: [1, 2, 3]\n",
            "List after function call: [1, 2, 5]\n"
          ]
        }
      ]
    },
    {
      "cell_type": "code",
      "source": [
        "#Unmutablity\n",
        "\n",
        "my_tuple=(1, 2 ,3)\n",
        "def modify_tuple(my_tuple):\n",
        "    my_tuple = (4, 5, 6)\n",
        "    print(\"Inside function:\", my_tuple)\n",
        "\n",
        "sample_tuple = (1, 2, 3)\n",
        "print(\"Tuple before function call:\", sample_tuple)\n",
        "modify_tuple(sample_tuple)\n",
        "print(\"Tuple after function call:\", sample_tuple"
      ],
      "metadata": {
        "colab": {
          "base_uri": "https://localhost:8080/",
          "height": 106
        },
        "id": "PJkaeCgLuQvC",
        "outputId": "37ba1077-4497-46b5-9e88-12870f10f4a7"
      },
      "execution_count": 32,
      "outputs": [
        {
          "output_type": "error",
          "ename": "SyntaxError",
          "evalue": "incomplete input (<ipython-input-32-6620eeb34fc6>, line 11)",
          "traceback": [
            "\u001b[0;36m  File \u001b[0;32m\"<ipython-input-32-6620eeb34fc6>\"\u001b[0;36m, line \u001b[0;32m11\u001b[0m\n\u001b[0;31m    print(\"Tuple after function call:\", sample_tuple\u001b[0m\n\u001b[0m                                                    ^\u001b[0m\n\u001b[0;31mSyntaxError\u001b[0m\u001b[0;31m:\u001b[0m incomplete input\n"
          ]
        }
      ]
    },
    {
      "cell_type": "code",
      "source": [
        "# 7-Write a program to demonstrate the use of logical operators.\n",
        "\n",
        "a=True\n",
        "b=False\n",
        "print(a and b)\n",
        "print(a or b)\n",
        "print(not a)\n"
      ],
      "metadata": {
        "colab": {
          "base_uri": "https://localhost:8080/"
        },
        "id": "kNP-zvIXuw_e",
        "outputId": "3645990c-507f-410b-9c70-e912752978a3"
      },
      "execution_count": 34,
      "outputs": [
        {
          "output_type": "stream",
          "name": "stdout",
          "text": [
            "False\n",
            "True\n",
            "False\n"
          ]
        }
      ]
    },
    {
      "cell_type": "code",
      "source": [
        "#8-Write a Python program to convert user input from string to integer, float, and boolean types.\n",
        "\n",
        "user_input = input(\"Enter a value: \")\n",
        "user_input=str(user_input)\n",
        "print(\"int\",int(user_input))\n",
        "\n",
        "user_input=float(user_input)\n",
        "print(\"float\",float(user_input))\n",
        "\n",
        "user_input=bool(user_input)\n",
        "print(\"boolean\",bool(user_input))\n"
      ],
      "metadata": {
        "colab": {
          "base_uri": "https://localhost:8080/"
        },
        "id": "xhdp3_70viI9",
        "outputId": "06d8857d-0c4e-449e-9472-e4b1f4d4903a"
      },
      "execution_count": 37,
      "outputs": [
        {
          "output_type": "stream",
          "name": "stdout",
          "text": [
            "Enter a value: 4\n",
            "int 4\n",
            "float 4.0\n",
            "boolean True\n"
          ]
        }
      ]
    },
    {
      "cell_type": "code",
      "source": [
        "#9-Write code to demonstrate type casting with list elements.\n",
        "\n",
        "a=[1,2,3,4]\n",
        "a_str=str(a)\n",
        "print(\"Result:\",a_str)"
      ],
      "metadata": {
        "colab": {
          "base_uri": "https://localhost:8080/"
        },
        "id": "tk9HREiYw1io",
        "outputId": "876ef485-57e4-4fce-beeb-783950af0d94"
      },
      "execution_count": 44,
      "outputs": [
        {
          "output_type": "stream",
          "name": "stdout",
          "text": [
            "Result: [1, 2, 3, 4]\n"
          ]
        }
      ]
    },
    {
      "cell_type": "code",
      "source": [
        "#10-Write a program that checks if a number is positive, negative, or zero0\n",
        "\n",
        "user_input=int(input(\"Enter a number: \"))\n",
        "if user_input>0:\n",
        "    print(\"Positive\")\n",
        "elif user_input<0:\n",
        "    print(\"Negative\")\n",
        "else:\n",
        "    print(\"Zero\")"
      ],
      "metadata": {
        "colab": {
          "base_uri": "https://localhost:8080/"
        },
        "id": "2O2B3FiFxw0A",
        "outputId": "af59a969-8212-47f3-9a14-6f8817582abb"
      },
      "execution_count": 45,
      "outputs": [
        {
          "output_type": "stream",
          "name": "stdout",
          "text": [
            "Enter a number: -8\n",
            "Negative\n"
          ]
        }
      ]
    },
    {
      "cell_type": "code",
      "source": [
        "#11- Write a for loop to print numbers from 1 to 10.\n",
        "\n",
        "for a in range(1,11):\n",
        "    print(a)\n",
        "\n"
      ],
      "metadata": {
        "colab": {
          "base_uri": "https://localhost:8080/"
        },
        "id": "0AvE99WwyCxi",
        "outputId": "92a1af35-0427-4cc7-ddf4-8ea534171b3a"
      },
      "execution_count": 47,
      "outputs": [
        {
          "output_type": "stream",
          "name": "stdout",
          "text": [
            "1\n",
            "2\n",
            "3\n",
            "4\n",
            "5\n",
            "6\n",
            "7\n",
            "8\n",
            "9\n",
            "10\n"
          ]
        }
      ]
    },
    {
      "cell_type": "code",
      "source": [
        "#12- Write a Python program to find the sum of all even numbers between 1 and 50.\n",
        "\n",
        "sum_of_even=0\n",
        "for a in range(1,51):\n",
        "    if a%2==0:\n",
        "        sum_of_even+=a\n",
        "print(\"Sum of even no:\",sum_of_even)"
      ],
      "metadata": {
        "colab": {
          "base_uri": "https://localhost:8080/"
        },
        "id": "tONHjPFZyYPD",
        "outputId": "9a2e6260-9c8e-47c0-bbbd-c3a487d5ea03"
      },
      "execution_count": 50,
      "outputs": [
        {
          "output_type": "stream",
          "name": "stdout",
          "text": [
            "Sum of even no: 650\n"
          ]
        }
      ]
    },
    {
      "cell_type": "code",
      "source": [
        "#13-0 Write a program to reverse a string using a while loop.\n",
        "my_name=\"Serajul Haque\"\n",
        "reversed_string = \"\"\n",
        "index = len(my_name) - 1\n",
        "\n",
        "while index >= 0:\n",
        "    reversed_string += my_name[index]\n",
        "    index -= 1\n",
        "\n",
        "print(\"Reversed string:\", reversed_string)\n",
        "\n",
        "\n"
      ],
      "metadata": {
        "colab": {
          "base_uri": "https://localhost:8080/"
        },
        "id": "gkmStfY9y4rp",
        "outputId": "1b3b0044-4a26-4879-eed0-5b4bc43a52f5"
      },
      "execution_count": 52,
      "outputs": [
        {
          "output_type": "stream",
          "name": "stdout",
          "text": [
            "Reversed string: euqaH lujareS\n"
          ]
        }
      ]
    },
    {
      "cell_type": "code",
      "source": [
        "#14-Write a Python program to calculate the factorial of a number provided by the user using a while loop.\n",
        "user_input=int(input(\"Enter a number: \"))\n",
        "factorial=1\n",
        "while user_input>0:\n",
        "    factorial*=user_input\n",
        "    user_input-=1\n",
        "print(\"Factorial:\",factorial)"
      ],
      "metadata": {
        "colab": {
          "base_uri": "https://localhost:8080/"
        },
        "id": "9arwKwnNzb5m",
        "outputId": "cf67caf0-938f-43f0-d364-1f2f77e92c7c"
      },
      "execution_count": 54,
      "outputs": [
        {
          "output_type": "stream",
          "name": "stdout",
          "text": [
            "Enter a number: 10\n",
            "Factorial: 3628800\n"
          ]
        }
      ]
    },
    {
      "cell_type": "code",
      "source": [],
      "metadata": {
        "id": "PZ7FBkD6ztWL"
      },
      "execution_count": null,
      "outputs": []
    }
  ]
}